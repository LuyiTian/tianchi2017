{
 "cells": [
  {
   "cell_type": "code",
   "execution_count": 155,
   "metadata": {
    "collapsed": false
   },
   "outputs": [],
   "source": [
    "import os\n",
    "import sys\n",
    "\n",
    "\n",
    "%matplotlib inline\n",
    "import matplotlib.pyplot as plt\n",
    "import pandas as pd\n",
    "import numpy as np\n",
    "IF_LOG = True"
   ]
  },
  {
   "cell_type": "code",
   "execution_count": 156,
   "metadata": {
    "collapsed": true
   },
   "outputs": [],
   "source": [
    "from sklearn.ensemble.forest import RandomForestRegressor\n",
    "from sklearn.tree import DecisionTreeRegressor\n",
    "from sklearn.neighbors import KNeighborsRegressor\n",
    "from sklearn.gaussian_process import GaussianProcessRegressor\n",
    "from sklearn.gaussian_process.kernels import RBF, WhiteKernel, RationalQuadratic"
   ]
  },
  {
   "cell_type": "markdown",
   "metadata": {},
   "source": [
    "##Totally Random:"
   ]
  },
  {
   "cell_type": "code",
   "execution_count": 157,
   "metadata": {
    "collapsed": false
   },
   "outputs": [
    {
     "data": {
      "text/plain": [
       "0.2830816936550557"
      ]
     },
     "execution_count": 157,
     "metadata": {},
     "output_type": "execute_result"
    }
   ],
   "source": [
    "me = 4.3904183267\n",
    "va = 0.793628715368\n",
    "get_all_score(np.random.normal(me, va, (1000,14)), np.random.normal(me, va, (1000,14)))"
   ]
  },
  {
   "cell_type": "markdown",
   "metadata": {},
   "source": [
    "##randomly select 80% shop as training set and use remaining 20% as test data. select shops that as no `NA` between \n",
    "2016-08-01 and 2016-10-31. predict last 14 days in October:"
   ]
  },
  {
   "cell_type": "code",
   "execution_count": 158,
   "metadata": {
    "collapsed": false
   },
   "outputs": [],
   "source": [
    "from utils import get_time_period, get_all_score\n",
    "sales = get_time_period(start=\"2016-08-01\", end=\"2016-10-31\", log2=IF_LOG)\n",
    "predit_days = 14\n",
    "sales_X = sales.ix[-3*predit_days:-predit_days]\n",
    "sales_Y = sales.ix[-predit_days:]\n",
    "pct = 0.8"
   ]
  },
  {
   "cell_type": "code",
   "execution_count": 159,
   "metadata": {
    "collapsed": false
   },
   "outputs": [
    {
     "data": {
      "text/plain": [
       "(1549, 28)"
      ]
     },
     "execution_count": 159,
     "metadata": {},
     "output_type": "execute_result"
    }
   ],
   "source": [
    "X = sales_X.values.transpose()\n",
    "X.shape"
   ]
  },
  {
   "cell_type": "code",
   "execution_count": 160,
   "metadata": {
    "collapsed": false
   },
   "outputs": [
    {
     "data": {
      "text/plain": [
       "(1549, 14)"
      ]
     },
     "execution_count": 160,
     "metadata": {},
     "output_type": "execute_result"
    }
   ],
   "source": [
    "Y = sales_Y.values.transpose()\n",
    "Y.shape"
   ]
  },
  {
   "cell_type": "code",
   "execution_count": 161,
   "metadata": {
    "collapsed": false
   },
   "outputs": [],
   "source": [
    "\n",
    "train_label = np.random.choice(Y.shape[0], int(Y.shape[0]*pct))\n",
    "test_label = np.array([i for i in range(Y.shape[0]) if i not in train_label])\n",
    "\n",
    "train_X = X[train_label,:]\n",
    "train_Y = Y[train_label,:]\n",
    "\n",
    "test_X = X[test_label,:]\n",
    "test_Y = Y[test_label,:]\n",
    "\n"
   ]
  },
  {
   "cell_type": "markdown",
   "metadata": {},
   "source": [
    "##DecisionTreeRegressor:"
   ]
  },
  {
   "cell_type": "code",
   "execution_count": 162,
   "metadata": {
    "collapsed": false
   },
   "outputs": [
    {
     "data": {
      "text/plain": [
       "0.10627624520483367"
      ]
     },
     "execution_count": 162,
     "metadata": {},
     "output_type": "execute_result"
    }
   ],
   "source": [
    "regr_all = DecisionTreeRegressor(max_depth=8)\n",
    "regr_all.fit(train_X, train_Y)\n",
    "pred_Y = regr_all.predict(test_X)\n",
    "get_all_score(pred_Y, test_Y, log2=IF_LOG)"
   ]
  },
  {
   "cell_type": "markdown",
   "metadata": {
    "collapsed": false
   },
   "source": [
    "##RandomForestRegressor:"
   ]
  },
  {
   "cell_type": "code",
   "execution_count": 163,
   "metadata": {
    "collapsed": false
   },
   "outputs": [
    {
     "data": {
      "text/plain": [
       "0.086708285724029013"
      ]
     },
     "execution_count": 163,
     "metadata": {},
     "output_type": "execute_result"
    }
   ],
   "source": [
    "regr_cv = RandomForestRegressor(max_depth=8)\n",
    "regr_cv.fit(train_X, train_Y)\n",
    "pred_Y = regr_cv.predict(test_X)\n",
    "get_all_score(pred_Y, test_Y, log2=IF_LOG)"
   ]
  },
  {
   "cell_type": "code",
   "execution_count": null,
   "metadata": {
    "collapsed": false
   },
   "outputs": [],
   "source": []
  },
  {
   "cell_type": "code",
   "execution_count": 164,
   "metadata": {
    "collapsed": false
   },
   "outputs": [],
   "source": [
    "def test_train_score(test_X, test_Y, train_X, train_Y, depth_range=range(2,21)):\n",
    "    train_score= []\n",
    "    test_score = []\n",
    "    for depth in depth_range:\n",
    "        regr_cv = RandomForestRegressor(max_depth=depth)\n",
    "        regr_cv.fit(train_X, train_Y)\n",
    "        pred_train_Y = regr_cv.predict(train_X)\n",
    "        train_score.append(get_all_score(pred_train_Y, train_Y, log2=IF_LOG))\n",
    "        pred_test_Y = regr_cv.predict(test_X)\n",
    "        test_score.append(get_all_score(pred_test_Y, test_Y, log2=IF_LOG))\n",
    "    return train_score, test_score"
   ]
  },
  {
   "cell_type": "code",
   "execution_count": 165,
   "metadata": {
    "collapsed": false
   },
   "outputs": [],
   "source": [
    "depth_range = range(2,31)\n",
    "train_score, test_score = test_train_score(test_X, test_Y, train_X, train_Y, depth_range)"
   ]
  },
  {
   "cell_type": "code",
   "execution_count": 166,
   "metadata": {
    "collapsed": false
   },
   "outputs": [
    {
     "data": {
      "text/plain": [
       "[<matplotlib.lines.Line2D at 0x10cb83a10>]"
      ]
     },
     "execution_count": 166,
     "metadata": {},
     "output_type": "execute_result"
    },
    {
     "data": {
      "image/png": "[encoded data removed]",
      "text/plain": [
       "<matplotlib.figure.Figure at 0x10cb83610>"
      ]
     },
     "metadata": {},
     "output_type": "display_data"
    }
   ],
   "source": [
    "plt.plot(depth_range, train_score)\n",
    "plt.plot(depth_range, test_score)"
   ]
  },
  {
   "cell_type": "code",
   "execution_count": 167,
   "metadata": {
    "collapsed": false
   },
   "outputs": [
    {
     "data": {
      "text/plain": [
       "0.085621195948133555"
      ]
     },
     "execution_count": 167,
     "metadata": {},
     "output_type": "execute_result"
    }
   ],
   "source": [
    "min(test_score)"
   ]
  },
  {
   "cell_type": "markdown",
   "metadata": {},
   "source": [
    "##KNeighborsRegressor:"
   ]
  },
  {
   "cell_type": "code",
   "execution_count": 168,
   "metadata": {
    "collapsed": false
   },
   "outputs": [
    {
     "data": {
      "text/plain": [
       "0.089493518796884955"
      ]
     },
     "execution_count": 168,
     "metadata": {},
     "output_type": "execute_result"
    }
   ],
   "source": [
    "regr_cv = KNeighborsRegressor()\n",
    "regr_cv.fit(train_X, train_Y)\n",
    "pred_Y = regr_cv.predict(test_X)\n",
    "get_all_score(pred_Y, test_Y, log2=IF_LOG)"
   ]
  },
  {
   "cell_type": "code",
   "execution_count": 169,
   "metadata": {
    "collapsed": false
   },
   "outputs": [],
   "source": [
    "def test_train_score(test_X, test_Y, train_X, train_Y, knn_range=range(2,21)):\n",
    "    train_score= []\n",
    "    test_score = []\n",
    "    for depth in depth_range:\n",
    "        regr_cv = KNeighborsRegressor(n_neighbors=depth)\n",
    "        regr_cv.fit(train_X, train_Y)\n",
    "        pred_train_Y = regr_cv.predict(train_X)\n",
    "        train_score.append(get_all_score(pred_train_Y, train_Y, log2=IF_LOG))\n",
    "        pred_test_Y = regr_cv.predict(test_X)\n",
    "        test_score.append(get_all_score(pred_test_Y, test_Y, log2=IF_LOG))\n",
    "    return train_score, test_score"
   ]
  },
  {
   "cell_type": "code",
   "execution_count": 170,
   "metadata": {
    "collapsed": false
   },
   "outputs": [
    {
     "data": {
      "text/plain": [
       "[<matplotlib.lines.Line2D at 0x10de38050>]"
      ]
     },
     "execution_count": 170,
     "metadata": {},
     "output_type": "execute_result"
    },
    {
     "data": {
      "image/png": "[encoded data removed]",
      "text/plain": [
       "<matplotlib.figure.Figure at 0x10de38890>"
      ]
     },
     "metadata": {},
     "output_type": "display_data"
    }
   ],
   "source": [
    "depth_range = range(2,31)\n",
    "train_score, test_score = test_train_score(test_X, test_Y, train_X, train_Y, depth_range)\n",
    "plt.plot(depth_range, train_score)\n",
    "plt.plot(depth_range, test_score)"
   ]
  },
  {
   "cell_type": "code",
   "execution_count": 171,
   "metadata": {
    "collapsed": false
   },
   "outputs": [
    {
     "data": {
      "text/plain": [
       "0.085079393922714769"
      ]
     },
     "execution_count": 171,
     "metadata": {},
     "output_type": "execute_result"
    }
   ],
   "source": [
    "min(test_score)"
   ]
  },
  {
   "cell_type": "markdown",
   "metadata": {
    "collapsed": false
   },
   "source": [
    "##GaussianProcessRegressor with different kernels:"
   ]
  },
  {
   "cell_type": "code",
   "execution_count": 172,
   "metadata": {
    "collapsed": false
   },
   "outputs": [
    {
     "data": {
      "text/plain": [
       "0.07811816642156616"
      ]
     },
     "execution_count": 172,
     "metadata": {},
     "output_type": "execute_result"
    }
   ],
   "source": [
    "kernel = 1.0 * RBF() \\\n",
    "    + WhiteKernel()\n",
    "regr_cv = GaussianProcessRegressor(kernel=kernel)\n",
    "regr_cv.fit(train_X, train_Y)\n",
    "pred_Y = regr_cv.predict(test_X)\n",
    "get_all_score(pred_Y, test_Y, log2=IF_LOG)"
   ]
  },
  {
   "cell_type": "code",
   "execution_count": 173,
   "metadata": {
    "collapsed": false
   },
   "outputs": [
    {
     "data": {
      "text/plain": [
       "0.080293526103586893"
      ]
     },
     "execution_count": 173,
     "metadata": {},
     "output_type": "execute_result"
    }
   ],
   "source": [
    " kernel = 1.0 * RationalQuadratic() \\\n",
    "    + WhiteKernel()\n",
    "regr_cv = GaussianProcessRegressor(kernel=kernel)\n",
    "regr_cv.fit(train_X, train_Y)\n",
    "pred_Y = regr_cv.predict(test_X)\n",
    "get_all_score(pred_Y, test_Y, log2=IF_LOG)"
   ]
  },
  {
   "cell_type": "code",
   "execution_count": null,
   "metadata": {
    "collapsed": true
   },
   "outputs": [],
   "source": []
  }
 ],
 "metadata": {
  "kernelspec": {
   "display_name": "Python 2",
   "language": "python",
   "name": "python2"
  },
  "language_info": {
   "codemirror_mode": {
    "name": "ipython",
    "version": 2
   },
   "file_extension": ".py",
   "mimetype": "text/x-python",
   "name": "python",
   "nbconvert_exporter": "python",
   "pygments_lexer": "ipython2",
   "version": "2.7.10"
  }
 },
 "nbformat": 4,
 "nbformat_minor": 0
}
