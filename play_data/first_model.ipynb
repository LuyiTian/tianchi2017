{
 "cells": [
  {
   "cell_type": "code",
   "execution_count": 1,
   "metadata": {
    "collapsed": false
   },
   "outputs": [],
   "source": [
    "import os\n",
    "import sys\n",
    "\n",
    "\n",
    "%matplotlib inline\n",
    "import matplotlib.pyplot as plt\n",
    "import pandas as pd\n",
    "import numpy as np\n",
    "from utils import get_time_period, get_all_score\n",
    "IF_LOG = True"
   ]
  },
  {
   "cell_type": "code",
   "execution_count": 2,
   "metadata": {
    "collapsed": true
   },
   "outputs": [],
   "source": [
    "from sklearn.ensemble.forest import RandomForestRegressor\n",
    "from sklearn.tree import DecisionTreeRegressor\n",
    "from sklearn.neighbors import KNeighborsRegressor\n",
    "from sklearn.gaussian_process import GaussianProcessRegressor\n",
    "from sklearn.gaussian_process.kernels import RBF, WhiteKernel, RationalQuadratic"
   ]
  },
  {
   "cell_type": "markdown",
   "metadata": {},
   "source": [
    "##Totally Random:"
   ]
  },
  {
   "cell_type": "code",
   "execution_count": 6,
   "metadata": {
    "collapsed": false
   },
   "outputs": [
    {
     "data": {
      "text/plain": [
       "0.28503727834332254"
      ]
     },
     "execution_count": 6,
     "metadata": {},
     "output_type": "execute_result"
    }
   ],
   "source": [
    "me = 4.3904183267\n",
    "va = 0.793628715368\n",
    "get_all_score(np.random.normal(me, va, (1000,14)), np.random.normal(me, va, (1000,14)))"
   ]
  },
  {
   "cell_type": "markdown",
   "metadata": {},
   "source": [
    "##randomly select 80% shop as training set and use remaining 20% as test data. select shops that as no `NA` between \n",
    "2016-08-01 and 2016-10-31. predict last 14 days in October:"
   ]
  },
  {
   "cell_type": "code",
   "execution_count": 15,
   "metadata": {
    "collapsed": false
   },
   "outputs": [],
   "source": [
    "sales = get_time_period(start=\"2016-08-01\", end=\"2016-10-31\", log2=IF_LOG)\n",
    "predit_days = 14\n",
    "sales_X = sales.ix[-3*predit_days:-predit_days]\n",
    "sales_Y = sales.ix[-predit_days:]\n",
    "pct = 0.8"
   ]
  },
  {
   "cell_type": "code",
   "execution_count": 8,
   "metadata": {
    "collapsed": false
   },
   "outputs": [
    {
     "data": {
      "text/plain": [
       "(1549, 28)"
      ]
     },
     "execution_count": 8,
     "metadata": {},
     "output_type": "execute_result"
    }
   ],
   "source": [
    "X = sales_X.values.transpose()\n",
    "X.shape"
   ]
  },
  {
   "cell_type": "code",
   "execution_count": 9,
   "metadata": {
    "collapsed": false
   },
   "outputs": [
    {
     "data": {
      "text/plain": [
       "(1549, 14)"
      ]
     },
     "execution_count": 9,
     "metadata": {},
     "output_type": "execute_result"
    }
   ],
   "source": [
    "Y = sales_Y.values.transpose()\n",
    "Y.shape"
   ]
  },
  {
   "cell_type": "code",
   "execution_count": 10,
   "metadata": {
    "collapsed": false
   },
   "outputs": [],
   "source": [
    "\n",
    "train_label = np.random.choice(Y.shape[0], int(Y.shape[0]*pct))\n",
    "test_label = np.array([i for i in range(Y.shape[0]) if i not in train_label])\n",
    "\n",
    "train_X = X[train_label,:]\n",
    "train_Y = Y[train_label,:]\n",
    "\n",
    "test_X = X[test_label,:]\n",
    "test_Y = Y[test_label,:]\n",
    "\n"
   ]
  },
  {
   "cell_type": "markdown",
   "metadata": {},
   "source": [
    "##DecisionTreeRegressor:"
   ]
  },
  {
   "cell_type": "code",
   "execution_count": 11,
   "metadata": {
    "collapsed": false
   },
   "outputs": [
    {
     "data": {
      "text/plain": [
       "0.10630703374961083"
      ]
     },
     "execution_count": 11,
     "metadata": {},
     "output_type": "execute_result"
    }
   ],
   "source": [
    "regr_all = DecisionTreeRegressor(max_depth=8)\n",
    "regr_all.fit(train_X, train_Y)\n",
    "pred_Y = regr_all.predict(test_X)\n",
    "get_all_score(pred_Y, test_Y, log2=IF_LOG)"
   ]
  },
  {
   "cell_type": "markdown",
   "metadata": {
    "collapsed": false
   },
   "source": [
    "##RandomForestRegressor:"
   ]
  },
  {
   "cell_type": "code",
   "execution_count": 12,
   "metadata": {
    "collapsed": false
   },
   "outputs": [
    {
     "data": {
      "text/plain": [
       "0.086365753639473714"
      ]
     },
     "execution_count": 12,
     "metadata": {},
     "output_type": "execute_result"
    }
   ],
   "source": [
    "regr_cv = RandomForestRegressor(max_depth=8)\n",
    "regr_cv.fit(train_X, train_Y)\n",
    "pred_Y = regr_cv.predict(test_X)\n",
    "get_all_score(pred_Y, test_Y, log2=IF_LOG)"
   ]
  },
  {
   "cell_type": "code",
   "execution_count": null,
   "metadata": {
    "collapsed": false
   },
   "outputs": [],
   "source": []
  },
  {
   "cell_type": "code",
   "execution_count": 13,
   "metadata": {
    "collapsed": false
   },
   "outputs": [],
   "source": [
    "def test_train_score(test_X, test_Y, train_X, train_Y, depth_range=range(2,21)):\n",
    "    train_score= []\n",
    "    test_score = []\n",
    "    for depth in depth_range:\n",
    "        regr_cv = RandomForestRegressor(max_depth=depth)\n",
    "        regr_cv.fit(train_X, train_Y)\n",
    "        pred_train_Y = regr_cv.predict(train_X)\n",
    "        train_score.append(get_all_score(pred_train_Y, train_Y, log2=IF_LOG))\n",
    "        pred_test_Y = regr_cv.predict(test_X)\n",
    "        test_score.append(get_all_score(pred_test_Y, test_Y, log2=IF_LOG))\n",
    "    return train_score, test_score"
   ]
  },
  {
   "cell_type": "code",
   "execution_count": 14,
   "metadata": {
    "collapsed": false
   },
   "outputs": [],
   "source": [
    "depth_range = range(2,31)\n",
    "train_score, test_score = test_train_score(test_X, test_Y, train_X, train_Y, depth_range)"
   ]
  },
  {
   "cell_type": "code",
   "execution_count": 15,
   "metadata": {
    "collapsed": false
   },
   "outputs": [
    {
     "data": {
      "text/plain": [
       "[<matplotlib.lines.Line2D at 0x102df7050>]"
      ]
     },
     "execution_count": 15,
     "metadata": {},
     "output_type": "execute_result"
    },
    {
     "data": {
      "image/png": "[encoded data removed]",
      "text/plain": [
       "<matplotlib.figure.Figure at 0x102de5290>"
      ]
     },
     "metadata": {},
     "output_type": "display_data"
    }
   ],
   "source": [
    "plt.plot(depth_range, train_score)\n",
    "plt.plot(depth_range, test_score)"
   ]
  },
  {
   "cell_type": "code",
   "execution_count": 16,
   "metadata": {
    "collapsed": false
   },
   "outputs": [
    {
     "data": {
      "text/plain": [
       "0.085651390239091102"
      ]
     },
     "execution_count": 16,
     "metadata": {},
     "output_type": "execute_result"
    }
   ],
   "source": [
    "min(test_score)"
   ]
  },
  {
   "cell_type": "markdown",
   "metadata": {},
   "source": [
    "##KNeighborsRegressor:"
   ]
  },
  {
   "cell_type": "code",
   "execution_count": 17,
   "metadata": {
    "collapsed": false
   },
   "outputs": [
    {
     "data": {
      "text/plain": [
       "0.091324358759430804"
      ]
     },
     "execution_count": 17,
     "metadata": {},
     "output_type": "execute_result"
    }
   ],
   "source": [
    "regr_cv = KNeighborsRegressor()\n",
    "regr_cv.fit(train_X, train_Y)\n",
    "pred_Y = regr_cv.predict(test_X)\n",
    "get_all_score(pred_Y, test_Y, log2=IF_LOG)"
   ]
  },
  {
   "cell_type": "code",
   "execution_count": 18,
   "metadata": {
    "collapsed": false
   },
   "outputs": [],
   "source": [
    "def test_train_score(test_X, test_Y, train_X, train_Y, knn_range=range(2,21)):\n",
    "    train_score= []\n",
    "    test_score = []\n",
    "    for depth in depth_range:\n",
    "        regr_cv = KNeighborsRegressor(n_neighbors=depth)\n",
    "        regr_cv.fit(train_X, train_Y)\n",
    "        pred_train_Y = regr_cv.predict(train_X)\n",
    "        train_score.append(get_all_score(pred_train_Y, train_Y, log2=IF_LOG))\n",
    "        pred_test_Y = regr_cv.predict(test_X)\n",
    "        test_score.append(get_all_score(pred_test_Y, test_Y, log2=IF_LOG))\n",
    "    return train_score, test_score"
   ]
  },
  {
   "cell_type": "code",
   "execution_count": 19,
   "metadata": {
    "collapsed": false
   },
   "outputs": [
    {
     "data": {
      "text/plain": [
       "[<matplotlib.lines.Line2D at 0x102e01a10>]"
      ]
     },
     "execution_count": 19,
     "metadata": {},
     "output_type": "execute_result"
    },
    {
     "data": {
      "image/png": "[encoded data removed]",
      "text/plain": [
       "<matplotlib.figure.Figure at 0x102e01a90>"
      ]
     },
     "metadata": {},
     "output_type": "display_data"
    }
   ],
   "source": [
    "depth_range = range(2,31)\n",
    "train_score, test_score = test_train_score(test_X, test_Y, train_X, train_Y, depth_range)\n",
    "plt.plot(depth_range, train_score)\n",
    "plt.plot(depth_range, test_score)"
   ]
  },
  {
   "cell_type": "code",
   "execution_count": 20,
   "metadata": {
    "collapsed": false
   },
   "outputs": [
    {
     "data": {
      "text/plain": [
       "0.086093978669791404"
      ]
     },
     "execution_count": 20,
     "metadata": {},
     "output_type": "execute_result"
    }
   ],
   "source": [
    "min(test_score)"
   ]
  },
  {
   "cell_type": "markdown",
   "metadata": {
    "collapsed": false
   },
   "source": [
    "##GaussianProcessRegressor with different kernels:"
   ]
  },
  {
   "cell_type": "code",
   "execution_count": 21,
   "metadata": {
    "collapsed": false
   },
   "outputs": [
    {
     "data": {
      "text/plain": [
       "0.077609786986236801"
      ]
     },
     "execution_count": 21,
     "metadata": {},
     "output_type": "execute_result"
    }
   ],
   "source": [
    "kernel = 1.0 * RBF() \\\n",
    "    + WhiteKernel()\n",
    "regr_cv = GaussianProcessRegressor(kernel=kernel)\n",
    "regr_cv.fit(train_X, train_Y)\n",
    "pred_Y = regr_cv.predict(test_X)\n",
    "get_all_score(pred_Y, test_Y, log2=IF_LOG)"
   ]
  },
  {
   "cell_type": "code",
   "execution_count": 22,
   "metadata": {
    "collapsed": false
   },
   "outputs": [
    {
     "data": {
      "text/plain": [
       "0.079398485995211529"
      ]
     },
     "execution_count": 22,
     "metadata": {},
     "output_type": "execute_result"
    }
   ],
   "source": [
    " kernel = 1.0 * RationalQuadratic() \\\n",
    "    + WhiteKernel()\n",
    "regr_cv = GaussianProcessRegressor(kernel=kernel)\n",
    "regr_cv.fit(train_X, train_Y)\n",
    "pred_Y = regr_cv.predict(test_X)\n",
    "get_all_score(pred_Y, test_Y, log2=IF_LOG)"
   ]
  },
  {
   "cell_type": "code",
   "execution_count": 25,
   "metadata": {
    "collapsed": false
   },
   "outputs": [
    {
     "data": {
      "text/plain": [
       "(92, 1549)"
      ]
     },
     "execution_count": 25,
     "metadata": {},
     "output_type": "execute_result"
    }
   ],
   "source": [
    "sales.shape"
   ]
  },
  {
   "cell_type": "code",
   "execution_count": 9,
   "metadata": {
    "collapsed": false
   },
   "outputs": [],
   "source": [
    "from baseline_func import generate_ran_train_test\n",
    "\n",
    "tr_X, tr_Y, te_X, te_Y = generate_ran_train_test(dataset_num=1000)"
   ]
  },
  {
   "cell_type": "code",
   "execution_count": 10,
   "metadata": {
    "collapsed": false
   },
   "outputs": [
    {
     "data": {
      "text/plain": [
       "(800, 28)"
      ]
     },
     "execution_count": 10,
     "metadata": {},
     "output_type": "execute_result"
    }
   ],
   "source": [
    "tr_X.shape"
   ]
  },
  {
   "cell_type": "code",
   "execution_count": 11,
   "metadata": {
    "collapsed": false
   },
   "outputs": [
    {
     "data": {
      "text/plain": [
       "0.15444948352332244"
      ]
     },
     "execution_count": 11,
     "metadata": {},
     "output_type": "execute_result"
    }
   ],
   "source": [
    "regr_cv = RandomForestRegressor(max_depth=10)\n",
    "regr_cv.fit(tr_X, tr_Y)\n",
    "pred_Y = regr_cv.predict(te_X)\n",
    "get_all_score(pred_Y, te_Y, log2=IF_LOG)"
   ]
  },
  {
   "cell_type": "code",
   "execution_count": 12,
   "metadata": {
    "collapsed": false
   },
   "outputs": [
    {
     "data": {
      "text/plain": [
       "0.15460250692268587"
      ]
     },
     "execution_count": 12,
     "metadata": {},
     "output_type": "execute_result"
    }
   ],
   "source": [
    "regr_cv = KNeighborsRegressor(n_neighbors=10)\n",
    "regr_cv.fit(tr_X, tr_Y)\n",
    "pred_Y = regr_cv.predict(te_X)\n",
    "get_all_score(pred_Y, te_Y, log2=IF_LOG)"
   ]
  },
  {
   "cell_type": "code",
   "execution_count": 13,
   "metadata": {
    "collapsed": false
   },
   "outputs": [
    {
     "data": {
      "text/plain": [
       "0.1676281080694044"
      ]
     },
     "execution_count": 13,
     "metadata": {},
     "output_type": "execute_result"
    }
   ],
   "source": [
    "kernel = 1.0 * RBF() \\\n",
    "    + WhiteKernel()\n",
    "regr_cv = GaussianProcessRegressor(kernel=kernel)\n",
    "regr_cv.fit(tr_X, tr_Y)\n",
    "pred_Y = regr_cv.predict(te_X)\n",
    "get_all_score(pred_Y, te_Y, log2=IF_LOG)"
   ]
  },
  {
   "cell_type": "code",
   "execution_count": 17,
   "metadata": {
    "collapsed": false
   },
   "outputs": [
    {
     "data": {
      "text/html": [
       "<div style=\"max-height:1000px;max-width:1500px;overflow:auto;\">\n",
       "<table border=\"1\" class=\"dataframe\">\n",
       "  <thead>\n",
       "    <tr style=\"text-align: right;\">\n",
       "      <th></th>\n",
       "      <th>4</th>\n",
       "    </tr>\n",
       "    <tr>\n",
       "      <th>date</th>\n",
       "      <th></th>\n",
       "    </tr>\n",
       "  </thead>\n",
       "  <tbody>\n",
       "    <tr>\n",
       "      <th>2016-08-01</th>\n",
       "      <td> 6.321928</td>\n",
       "    </tr>\n",
       "    <tr>\n",
       "      <th>2016-08-02</th>\n",
       "      <td> 6.169925</td>\n",
       "    </tr>\n",
       "    <tr>\n",
       "      <th>2016-08-03</th>\n",
       "      <td> 6.629357</td>\n",
       "    </tr>\n",
       "    <tr>\n",
       "      <th>2016-08-04</th>\n",
       "      <td> 6.285402</td>\n",
       "    </tr>\n",
       "    <tr>\n",
       "      <th>2016-08-05</th>\n",
       "      <td> 6.727920</td>\n",
       "    </tr>\n",
       "    <tr>\n",
       "      <th>2016-08-06</th>\n",
       "      <td> 7.383704</td>\n",
       "    </tr>\n",
       "    <tr>\n",
       "      <th>2016-08-07</th>\n",
       "      <td> 7.531381</td>\n",
       "    </tr>\n",
       "    <tr>\n",
       "      <th>2016-08-08</th>\n",
       "      <td> 6.781360</td>\n",
       "    </tr>\n",
       "    <tr>\n",
       "      <th>2016-08-09</th>\n",
       "      <td> 6.554589</td>\n",
       "    </tr>\n",
       "    <tr>\n",
       "      <th>2016-08-10</th>\n",
       "      <td> 6.977280</td>\n",
       "    </tr>\n",
       "    <tr>\n",
       "      <th>2016-08-11</th>\n",
       "      <td> 6.857981</td>\n",
       "    </tr>\n",
       "    <tr>\n",
       "      <th>2016-08-12</th>\n",
       "      <td> 6.882643</td>\n",
       "    </tr>\n",
       "    <tr>\n",
       "      <th>2016-08-13</th>\n",
       "      <td> 7.727920</td>\n",
       "    </tr>\n",
       "    <tr>\n",
       "      <th>2016-08-14</th>\n",
       "      <td> 8.139551</td>\n",
       "    </tr>\n",
       "    <tr>\n",
       "      <th>2016-08-15</th>\n",
       "      <td> 6.714246</td>\n",
       "    </tr>\n",
       "    <tr>\n",
       "      <th>2016-08-16</th>\n",
       "      <td> 6.475733</td>\n",
       "    </tr>\n",
       "    <tr>\n",
       "      <th>2016-08-17</th>\n",
       "      <td> 6.554589</td>\n",
       "    </tr>\n",
       "    <tr>\n",
       "      <th>2016-08-18</th>\n",
       "      <td> 6.087463</td>\n",
       "    </tr>\n",
       "    <tr>\n",
       "      <th>2016-08-19</th>\n",
       "      <td> 6.882643</td>\n",
       "    </tr>\n",
       "    <tr>\n",
       "      <th>2016-08-20</th>\n",
       "      <td> 7.546894</td>\n",
       "    </tr>\n",
       "    <tr>\n",
       "      <th>2016-08-21</th>\n",
       "      <td> 7.607330</td>\n",
       "    </tr>\n",
       "    <tr>\n",
       "      <th>2016-08-22</th>\n",
       "      <td> 6.954196</td>\n",
       "    </tr>\n",
       "    <tr>\n",
       "      <th>2016-08-23</th>\n",
       "      <td> 6.442943</td>\n",
       "    </tr>\n",
       "    <tr>\n",
       "      <th>2016-08-24</th>\n",
       "      <td> 6.918863</td>\n",
       "    </tr>\n",
       "    <tr>\n",
       "      <th>2016-08-25</th>\n",
       "      <td> 6.942515</td>\n",
       "    </tr>\n",
       "    <tr>\n",
       "      <th>2016-08-26</th>\n",
       "      <td> 6.714246</td>\n",
       "    </tr>\n",
       "    <tr>\n",
       "      <th>2016-08-27</th>\n",
       "      <td> 7.614710</td>\n",
       "    </tr>\n",
       "    <tr>\n",
       "      <th>2016-08-28</th>\n",
       "      <td> 7.942515</td>\n",
       "    </tr>\n",
       "    <tr>\n",
       "      <th>2016-08-29</th>\n",
       "      <td> 6.918863</td>\n",
       "    </tr>\n",
       "    <tr>\n",
       "      <th>2016-08-30</th>\n",
       "      <td> 6.686501</td>\n",
       "    </tr>\n",
       "    <tr>\n",
       "      <th>...</th>\n",
       "      <td>...</td>\n",
       "    </tr>\n",
       "    <tr>\n",
       "      <th>2016-10-02</th>\n",
       "      <td> 6.977280</td>\n",
       "    </tr>\n",
       "    <tr>\n",
       "      <th>2016-10-03</th>\n",
       "      <td> 6.569856</td>\n",
       "    </tr>\n",
       "    <tr>\n",
       "      <th>2016-10-04</th>\n",
       "      <td> 6.599913</td>\n",
       "    </tr>\n",
       "    <tr>\n",
       "      <th>2016-10-05</th>\n",
       "      <td> 6.894818</td>\n",
       "    </tr>\n",
       "    <tr>\n",
       "      <th>2016-10-06</th>\n",
       "      <td> 7.044394</td>\n",
       "    </tr>\n",
       "    <tr>\n",
       "      <th>2016-10-07</th>\n",
       "      <td> 7.118941</td>\n",
       "    </tr>\n",
       "    <tr>\n",
       "      <th>2016-10-08</th>\n",
       "      <td> 6.807355</td>\n",
       "    </tr>\n",
       "    <tr>\n",
       "      <th>2016-10-09</th>\n",
       "      <td> 6.459432</td>\n",
       "    </tr>\n",
       "    <tr>\n",
       "      <th>2016-10-10</th>\n",
       "      <td> 6.285402</td>\n",
       "    </tr>\n",
       "    <tr>\n",
       "      <th>2016-10-11</th>\n",
       "      <td> 6.426265</td>\n",
       "    </tr>\n",
       "    <tr>\n",
       "      <th>2016-10-12</th>\n",
       "      <td> 6.820179</td>\n",
       "    </tr>\n",
       "    <tr>\n",
       "      <th>2016-10-13</th>\n",
       "      <td> 6.149747</td>\n",
       "    </tr>\n",
       "    <tr>\n",
       "      <th>2016-10-14</th>\n",
       "      <td> 6.918863</td>\n",
       "    </tr>\n",
       "    <tr>\n",
       "      <th>2016-10-15</th>\n",
       "      <td> 7.366322</td>\n",
       "    </tr>\n",
       "    <tr>\n",
       "      <th>2016-10-16</th>\n",
       "      <td> 7.643856</td>\n",
       "    </tr>\n",
       "    <tr>\n",
       "      <th>2016-10-17</th>\n",
       "      <td> 6.475733</td>\n",
       "    </tr>\n",
       "    <tr>\n",
       "      <th>2016-10-18</th>\n",
       "      <td> 6.491853</td>\n",
       "    </tr>\n",
       "    <tr>\n",
       "      <th>2016-10-19</th>\n",
       "      <td> 6.807355</td>\n",
       "    </tr>\n",
       "    <tr>\n",
       "      <th>2016-10-20</th>\n",
       "      <td> 5.882643</td>\n",
       "    </tr>\n",
       "    <tr>\n",
       "      <th>2016-10-21</th>\n",
       "      <td> 6.321928</td>\n",
       "    </tr>\n",
       "    <tr>\n",
       "      <th>2016-10-22</th>\n",
       "      <td> 7.721099</td>\n",
       "    </tr>\n",
       "    <tr>\n",
       "      <th>2016-10-23</th>\n",
       "      <td> 7.787903</td>\n",
       "    </tr>\n",
       "    <tr>\n",
       "      <th>2016-10-24</th>\n",
       "      <td> 6.339850</td>\n",
       "    </tr>\n",
       "    <tr>\n",
       "      <th>2016-10-25</th>\n",
       "      <td> 6.491853</td>\n",
       "    </tr>\n",
       "    <tr>\n",
       "      <th>2016-10-26</th>\n",
       "      <td> 6.700440</td>\n",
       "    </tr>\n",
       "    <tr>\n",
       "      <th>2016-10-27</th>\n",
       "      <td> 5.781360</td>\n",
       "    </tr>\n",
       "    <tr>\n",
       "      <th>2016-10-28</th>\n",
       "      <td> 6.781360</td>\n",
       "    </tr>\n",
       "    <tr>\n",
       "      <th>2016-10-29</th>\n",
       "      <td> 7.748193</td>\n",
       "    </tr>\n",
       "    <tr>\n",
       "      <th>2016-10-30</th>\n",
       "      <td> 7.614710</td>\n",
       "    </tr>\n",
       "    <tr>\n",
       "      <th>2016-10-31</th>\n",
       "      <td> 6.845490</td>\n",
       "    </tr>\n",
       "  </tbody>\n",
       "</table>\n",
       "<p>92 rows × 1 columns</p>\n",
       "</div>"
      ],
      "text/plain": [
       "                   4\n",
       "date                \n",
       "2016-08-01  6.321928\n",
       "2016-08-02  6.169925\n",
       "2016-08-03  6.629357\n",
       "2016-08-04  6.285402\n",
       "2016-08-05  6.727920\n",
       "2016-08-06  7.383704\n",
       "2016-08-07  7.531381\n",
       "2016-08-08  6.781360\n",
       "2016-08-09  6.554589\n",
       "2016-08-10  6.977280\n",
       "2016-08-11  6.857981\n",
       "2016-08-12  6.882643\n",
       "2016-08-13  7.727920\n",
       "2016-08-14  8.139551\n",
       "2016-08-15  6.714246\n",
       "2016-08-16  6.475733\n",
       "2016-08-17  6.554589\n",
       "2016-08-18  6.087463\n",
       "2016-08-19  6.882643\n",
       "2016-08-20  7.546894\n",
       "2016-08-21  7.607330\n",
       "2016-08-22  6.954196\n",
       "2016-08-23  6.442943\n",
       "2016-08-24  6.918863\n",
       "2016-08-25  6.942515\n",
       "2016-08-26  6.714246\n",
       "2016-08-27  7.614710\n",
       "2016-08-28  7.942515\n",
       "2016-08-29  6.918863\n",
       "2016-08-30  6.686501\n",
       "...              ...\n",
       "2016-10-02  6.977280\n",
       "2016-10-03  6.569856\n",
       "2016-10-04  6.599913\n",
       "2016-10-05  6.894818\n",
       "2016-10-06  7.044394\n",
       "2016-10-07  7.118941\n",
       "2016-10-08  6.807355\n",
       "2016-10-09  6.459432\n",
       "2016-10-10  6.285402\n",
       "2016-10-11  6.426265\n",
       "2016-10-12  6.820179\n",
       "2016-10-13  6.149747\n",
       "2016-10-14  6.918863\n",
       "2016-10-15  7.366322\n",
       "2016-10-16  7.643856\n",
       "2016-10-17  6.475733\n",
       "2016-10-18  6.491853\n",
       "2016-10-19  6.807355\n",
       "2016-10-20  5.882643\n",
       "2016-10-21  6.321928\n",
       "2016-10-22  7.721099\n",
       "2016-10-23  7.787903\n",
       "2016-10-24  6.339850\n",
       "2016-10-25  6.491853\n",
       "2016-10-26  6.700440\n",
       "2016-10-27  5.781360\n",
       "2016-10-28  6.781360\n",
       "2016-10-29  7.748193\n",
       "2016-10-30  7.614710\n",
       "2016-10-31  6.845490\n",
       "\n",
       "[92 rows x 1 columns]"
      ]
     },
     "execution_count": 17,
     "metadata": {},
     "output_type": "execute_result"
    }
   ],
   "source": [
    "sales[[2]]"
   ]
  },
  {
   "cell_type": "code",
   "execution_count": null,
   "metadata": {
    "collapsed": true
   },
   "outputs": [],
   "source": []
  }
 ],
 "metadata": {
  "kernelspec": {
   "display_name": "Python 2",
   "language": "python",
   "name": "python2"
  },
  "language_info": {
   "codemirror_mode": {
    "name": "ipython",
    "version": 2
   },
   "file_extension": ".py",
   "mimetype": "text/x-python",
   "name": "python",
   "nbconvert_exporter": "python",
   "pygments_lexer": "ipython2",
   "version": "2.7.10"
  }
 },
 "nbformat": 4,
 "nbformat_minor": 0
}
