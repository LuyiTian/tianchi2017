{
 "cells": [
  {
   "cell_type": "code",
   "execution_count": 34,
   "metadata": {
    "collapsed": true
   },
   "outputs": [],
   "source": [
    "import numpy as np\n",
    "import os\n",
    "import pandas as pd\n",
    "%matplotlib inline\n",
    "import matplotlib.pyplot as plt"
   ]
  },
  {
   "cell_type": "code",
   "execution_count": null,
   "metadata": {
    "collapsed": true
   },
   "outputs": [],
   "source": [
    "# get file path from config\n",
    "import os,sys,inspect\n",
    "currentdir = os.path.dirname(os.path.abspath(inspect.getfile(inspect.currentframe())))\n",
    "parentdir = os.path.dirname(currentdir)\n",
    "sys.path.insert(0,parentdir) \n",
    "from config import BASE_PATH"
   ]
  },
  {
   "cell_type": "code",
   "execution_count": 22,
   "metadata": {
    "collapsed": false
   },
   "outputs": [],
   "source": [
    "#dateparse = lambda dates: pd.datetime.strptime(dates, '%Y-%m-%d')\n",
    "fp = os.path.join(BASE_PATH,\"dataset\",\"user_pay.txt\")\n",
    "df = pd.read_csv(fp,header=None, engine='c', sep=',')\n",
    "df.columns = [\"user_id\", \"shop_id\", \"datetime\"]"
   ]
  },
  {
   "cell_type": "code",
   "execution_count": 26,
   "metadata": {
    "collapsed": false
   },
   "outputs": [
    {
     "name": "stdout",
     "output_type": "stream",
     "text": [
      "<bound method DataFrame.head of            user_id  shop_id            datetime        date\n",
      "0         22127870     1862 2015-12-25 17:00:00  2015-12-25\n",
      "1          3434231     1862 2016-10-05 11:00:00  2016-10-05\n",
      "2         16955285     1862 2016-02-10 15:00:00  2016-02-10\n",
      "3         13799128     1862 2016-01-13 14:00:00  2016-01-13\n",
      "4         13799128     1862 2016-07-05 12:00:00  2016-07-05\n",
      "5         20244878     1862 2016-09-17 15:00:00  2016-09-17\n",
      "6         20244878     1862 2016-05-29 16:00:00  2016-05-29\n",
      "7           438444     1862 2016-02-22 17:00:00  2016-02-22\n",
      "8         22003193     1862 2016-08-07 15:00:00  2016-08-07\n",
      "9         20244878     1862 2016-04-17 16:00:00  2016-04-17\n",
      "10         9034387     1862 2016-03-18 19:00:00  2016-03-18\n",
      "11        13211167     1862 2016-09-29 20:00:00  2016-09-29\n",
      "12        18329438     1862 2016-03-20 18:00:00  2016-03-20\n",
      "13        20244878     1862 2016-06-26 15:00:00  2016-06-26\n",
      "14        10303270     1862 2016-01-01 18:00:00  2016-01-01\n",
      "15        12590929     1862 2016-04-17 17:00:00  2016-04-17\n",
      "16        12590929     1862 2016-02-28 13:00:00  2016-02-28\n",
      "17        17609360     1862 2016-10-15 17:00:00  2016-10-15\n",
      "18        14438936     1862 2016-06-26 15:00:00  2016-06-26\n",
      "19        15262746     1862 2016-10-18 19:00:00  2016-10-18\n",
      "20         4296251     1862 2016-07-12 15:00:00  2016-07-12\n",
      "21        22028056     1862 2016-08-19 13:00:00  2016-08-19\n",
      "22         4296251     1862 2016-08-15 20:00:00  2016-08-15\n",
      "23         8509380     1862 2016-04-16 21:00:00  2016-04-16\n",
      "24        11775594     1862 2016-09-25 17:00:00  2016-09-25\n",
      "25        16705113     1862 2016-04-18 18:00:00  2016-04-18\n",
      "26          438444     1862 2016-05-12 20:00:00  2016-05-12\n",
      "27        17068663     1862 2016-10-06 18:00:00  2016-10-06\n",
      "28         2650727     1862 2016-02-27 18:00:00  2016-02-27\n",
      "29         4682101     1862 2016-08-21 17:00:00  2016-08-21\n",
      "...            ...      ...                 ...         ...\n",
      "69674080  15330495      766 2016-08-09 10:00:00  2016-08-09\n",
      "69674081  21083232      766 2016-10-18 19:00:00  2016-10-18\n",
      "69674082   3930915      766 2016-07-30 15:00:00  2016-07-30\n",
      "69674083  21083232      766 2016-10-30 19:00:00  2016-10-30\n",
      "69674084  11369450      766 2016-10-11 20:00:00  2016-10-11\n",
      "69674085  11350161      766 2016-10-11 19:00:00  2016-10-11\n",
      "69674086  11350161      766 2016-09-15 17:00:00  2016-09-15\n",
      "69674087  11350161      766 2016-09-09 16:00:00  2016-09-09\n",
      "69674088  11350161      766 2016-10-30 13:00:00  2016-10-30\n",
      "69674089  11350161      766 2016-09-27 19:00:00  2016-09-27\n",
      "69674090  13235858      766 2016-10-11 18:00:00  2016-10-11\n",
      "69674091   6088076      766 2016-08-16 11:00:00  2016-08-16\n",
      "69674092  13541879      766 2016-07-13 19:00:00  2016-07-13\n",
      "69674093  16221565      766 2016-09-08 18:00:00  2016-09-08\n",
      "69674094  10172353      766 2016-07-13 12:00:00  2016-07-13\n",
      "69674095  10172353      766 2016-07-16 11:00:00  2016-07-16\n",
      "69674096  21083232      766 2016-09-21 20:00:00  2016-09-21\n",
      "69674097  20732081      766 2016-08-28 12:00:00  2016-08-28\n",
      "69674098   5112685      766 2016-10-27 11:00:00  2016-10-27\n",
      "69674099  15273463      766 2016-08-04 19:00:00  2016-08-04\n",
      "69674100   4378316      766 2016-08-23 12:00:00  2016-08-23\n",
      "69674101  14323567      766 2016-10-26 20:00:00  2016-10-26\n",
      "69674102  14323567      766 2016-10-06 12:00:00  2016-10-06\n",
      "69674103  19062832      766 2016-08-13 19:00:00  2016-08-13\n",
      "69674104  19062832      766 2016-09-24 20:00:00  2016-09-24\n",
      "69674105  15330495      766 2016-08-21 19:00:00  2016-08-21\n",
      "69674106   8556331      766 2016-08-11 20:00:00  2016-08-11\n",
      "69674107  11429329      766 2016-09-18 18:00:00  2016-09-18\n",
      "69674108  11429329      766 2016-10-02 20:00:00  2016-10-02\n",
      "69674109  22602094      766 2016-10-13 13:00:00  2016-10-13\n",
      "\n",
      "[69674110 rows x 4 columns]>\n"
     ]
    }
   ],
   "source": [
    "#print df[(df[\"datetime\"]>=\"2016-09-17\") & (df[\"datetime\"]<\"2016-09-18\")]\n",
    "df['datetime'] = pd.to_datetime(df['datetime'])\n",
    "df['date'] = df['datetime'].dt.date\n",
    "print df.head"
   ]
  },
  {
   "cell_type": "code",
   "execution_count": 30,
   "metadata": {
    "collapsed": false
   },
   "outputs": [
    {
     "name": "stdout",
     "output_type": "stream",
     "text": [
      "shop_id  date      \n",
      "1        2015-10-10    188\n",
      "         2015-10-11    272\n",
      "         2015-10-12    257\n",
      "         2015-10-13    239\n",
      "         2015-10-14    277\n",
      "         2015-10-15    227\n",
      "         2015-10-16    242\n",
      "         2015-10-17    293\n",
      "         2015-10-18    291\n",
      "         2015-10-19    256\n",
      "         2015-10-20    262\n",
      "         2015-10-21    271\n",
      "         2015-10-22    260\n",
      "         2015-10-23    240\n",
      "         2015-10-24    291\n",
      "...\n",
      "2000     2016-10-17    163\n",
      "         2016-10-18    157\n",
      "         2016-10-19    164\n",
      "         2016-10-20    165\n",
      "         2016-10-21    138\n",
      "         2016-10-22     66\n",
      "         2016-10-23     59\n",
      "         2016-10-24    162\n",
      "         2016-10-25    181\n",
      "         2016-10-26    184\n",
      "         2016-10-27    132\n",
      "         2016-10-28    133\n",
      "         2016-10-29     67\n",
      "         2016-10-30     67\n",
      "         2016-10-31    168\n",
      "Length: 599275, dtype: int64\n"
     ]
    }
   ],
   "source": [
    "df_grp_by_day = df.groupby(['shop_id', 'date']).size()\n",
    "print df_grp_by_day"
   ]
  },
  {
   "cell_type": "code",
   "execution_count": 37,
   "metadata": {
    "collapsed": false
   },
   "outputs": [
    {
     "data": {
      "image/png": "[encoded data removed]",
      "text/plain": [
       "<matplotlib.figure.Figure at 0x1147bbd50>"
      ]
     },
     "metadata": {},
     "output_type": "display_data"
    }
   ],
   "source": [
    "plt.hist(np.log(df_grp_by_day),bins=100)\n",
    "plt.show()\n",
    "# per shop per day frequency"
   ]
  },
  {
   "cell_type": "code",
   "execution_count": 42,
   "metadata": {
    "collapsed": false
   },
   "outputs": [
    {
     "ename": "AttributeError",
     "evalue": "'Series' object has no attribute 'shop_id'",
     "output_type": "error",
     "traceback": [
      "\u001b[0;31m---------------------------------------------------------------------------\u001b[0m",
      "\u001b[0;31mAttributeError\u001b[0m                            Traceback (most recent call last)",
      "\u001b[0;32m<ipython-input-42-020310b25c11>\u001b[0m in \u001b[0;36m<module>\u001b[0;34m()\u001b[0m\n\u001b[0;32m----> 1\u001b[0;31m \u001b[0mdf_grp_by_day\u001b[0m\u001b[0;34m.\u001b[0m\u001b[0mshop_id\u001b[0m\u001b[0;34m\u001b[0m\u001b[0m\n\u001b[0m",
      "\u001b[0;32m/Library/Python/2.7/site-packages/pandas/core/generic.pyc\u001b[0m in \u001b[0;36m__getattr__\u001b[0;34m(self, name)\u001b[0m\n\u001b[1;32m   1945\u001b[0m                 \u001b[0;32mreturn\u001b[0m \u001b[0mself\u001b[0m\u001b[0;34m[\u001b[0m\u001b[0mname\u001b[0m\u001b[0;34m]\u001b[0m\u001b[0;34m\u001b[0m\u001b[0m\n\u001b[1;32m   1946\u001b[0m             raise AttributeError(\"'%s' object has no attribute '%s'\" %\n\u001b[0;32m-> 1947\u001b[0;31m                                  (type(self).__name__, name))\n\u001b[0m\u001b[1;32m   1948\u001b[0m \u001b[0;34m\u001b[0m\u001b[0m\n\u001b[1;32m   1949\u001b[0m     \u001b[0;32mdef\u001b[0m \u001b[0m__setattr__\u001b[0m\u001b[0;34m(\u001b[0m\u001b[0mself\u001b[0m\u001b[0;34m,\u001b[0m \u001b[0mname\u001b[0m\u001b[0;34m,\u001b[0m \u001b[0mvalue\u001b[0m\u001b[0;34m)\u001b[0m\u001b[0;34m:\u001b[0m\u001b[0;34m\u001b[0m\u001b[0m\n",
      "\u001b[0;31mAttributeError\u001b[0m: 'Series' object has no attribute 'shop_id'"
     ]
    }
   ],
   "source": [
    "df_grp_by_day.shop_id"
   ]
  },
  {
   "cell_type": "code",
   "execution_count": null,
   "metadata": {
    "collapsed": true
   },
   "outputs": [],
   "source": []
  }
 ],
 "metadata": {
  "kernelspec": {
   "display_name": "Python 2",
   "language": "python",
   "name": "python2"
  },
  "language_info": {
   "codemirror_mode": {
    "name": "ipython",
    "version": 2
   },
   "file_extension": ".py",
   "mimetype": "text/x-python",
   "name": "python",
   "nbconvert_exporter": "python",
   "pygments_lexer": "ipython2",
   "version": "2.7.10"
  }
 },
 "nbformat": 4,
 "nbformat_minor": 0
}
